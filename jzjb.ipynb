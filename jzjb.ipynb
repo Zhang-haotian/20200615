{
 "cells": [
  {
   "cell_type": "code",
   "execution_count": 3,
   "metadata": {
    "collapsed": true
   },
   "outputs": [],
   "source": [
    "import json\n",
    "import matplotlib.pyplot as plt\n",
    "import SimpleITK as sitk\n",
    "import os\n",
    "import time\n",
    "import numpy as np"
   ]
  },
  {
   "cell_type": "code",
   "execution_count": 4,
   "metadata": {},
   "outputs": [],
   "source": [
    "def dicom_metainfo(dicm_path, list_tag):\n",
    "    '''\n",
    "    获取dicom的元数据信息\n",
    "    :param dicm_path: dicom文件地址\n",
    "    :param list_tag: 标记名称列表,比如['0008|0018',]\n",
    "    :return:\n",
    "    '''\n",
    "    reader = sitk.ImageFileReader()\n",
    "    reader.LoadPrivateTagsOn()\n",
    "    reader.SetFileName(dicm_path)\n",
    "    reader.ReadImageInformation()\n",
    "    return [reader.GetMetaData(t) for t in list_tag]\n",
    "\n",
    "\n",
    "def dicom2array(dcm_path):\n",
    "    '''\n",
    "    读取dicom文件并把其转化为灰度图(np.array)\n",
    "    https://simpleitk.readthedocs.io/en/master/link_DicomConvert_docs.html\n",
    "    :param dcm_path: dicom文件\n",
    "    :return:\n",
    "    '''\n",
    "    image_file_reader = sitk.ImageFileReader()\n",
    "    image_file_reader.SetImageIO('GDCMImageIO')\n",
    "    image_file_reader.SetFileName(dcm_path)\n",
    "    image_file_reader.ReadImageInformation()\n",
    "    image = image_file_reader.Execute()\n",
    "    if image.GetNumberOfComponentsPerPixel() == 1:\n",
    "        image = sitk.RescaleIntensity(image, 0, 255)\n",
    "        if image_file_reader.GetMetaData('0028|0004').strip() == 'MONOCHROME1':\n",
    "            image = sitk.InvertIntensity(image, maximum=255)\n",
    "        image = sitk.Cast(image, sitk.sitkUInt8)\n",
    "    img_x = sitk.GetArrayFromImage(image)[0]\n",
    "    return img_x\n",
    "\n",
    "\n",
    "def get_info(trainPath, jsonPath):\n",
    "    annotation_info = pd.DataFrame(columns=('studyUid', 'seriesUid', 'instanceUid', 'annotation'))\n",
    "    json_df = pd.read_json(jsonPath)\n",
    "    for idx in json_df.index:\n",
    "        studyUid = json_df.loc[idx, \"studyUid\"]\n",
    "        seriesUid = json_df.loc[idx, \"data\"][0]['seriesUid']\n",
    "        instanceUid = json_df.loc[idx, \"data\"][0]['instanceUid']\n",
    "        annotation = json_df.loc[idx, \"data\"][0]['annotation']\n",
    "        row = pd.Series(\n",
    "            {'studyUid': studyUid, 'seriesUid': seriesUid, 'instanceUid': instanceUid, 'annotation': annotation})\n",
    "        annotation_info = annotation_info.append(row, ignore_index=True)\n",
    "    dcm_paths = glob.glob(os.path.join(trainPath, \"**\", \"**.dcm\"))  # 具体的图片路径\n",
    "    # 'studyUid','seriesUid','instanceUid'\n",
    "    tag_list = ['0020|000d', '0020|000e', '0008|0018']\n",
    "    dcm_info = pd.DataFrame(columns=('dcmPath', 'studyUid', 'seriesUid', 'instanceUid'))\n",
    "    for dcm_path in dcm_paths:\n",
    "        try:\n",
    "            studyUid, seriesUid, instanceUid = dicom_metainfo(dcm_path, tag_list)  # 获取当前图像的3个id，然后再与json中的对应\n",
    "            row = pd.Series(\n",
    "                {'dcmPath': dcm_path, 'studyUid': studyUid, 'seriesUid': seriesUid, 'instanceUid': instanceUid})\n",
    "            dcm_info = dcm_info.append(row, ignore_index=True)\n",
    "        except:\n",
    "            continue\n",
    "    result = pd.merge(annotation_info, dcm_info, on=['studyUid', 'seriesUid', 'instanceUid'])  # 两个pd根据3个id合并\n",
    "    result = result.set_index('dcmPath')['annotation']  # 然后把index设置为路径，值设置为annotation\n",
    "    return result\n"
   ]
  },
  {
   "cell_type": "code",
   "execution_count": 5,
   "metadata": {},
   "outputs": [],
   "source": [
    "# 读取一个study下的所有图片\n",
    "# study11 = []\n",
    "# root = r'C:\\Users\\Administrator\\Desktop\\2020spring\\projectsLJN\\jzjbycfg\\data\\train\\study11'\n",
    "# dirs = os.listdir(root)\n",
    "# for dir in dirs:\n",
    "#     dcm_dir = root + '\\\\' + dir\n",
    "#     img_x = dicom2array(dcm_dir)\n",
    "#     study11.append(img_x)\n",
    "# print(len(study11))"
   ]
  },
  {
   "cell_type": "code",
   "execution_count": 6,
   "metadata": {},
   "outputs": [],
   "source": [
    "# # 读取训练数据\n",
    "# train = []\n",
    "# root = r'C:\\Users\\Administrator\\Desktop\\2020spring\\projectsLJN\\jzjbycfg\\train\\data'\n",
    "# dirs = os.listdir(root)\n",
    "# st = time.time()\n",
    "# for dir in dirs:\n",
    "#     dcm_dir = root + '\\\\' + dir\n",
    "#     # dcm_dir = r'C:\\Users\\Administrator\\Desktop\\2020spring\\projectsLJN\\jzjbycfg\\train\\study0'\n",
    "#     reader = sitk.ImageSeriesReader()\n",
    "#     seriesIDs = reader.GetGDCMSeriesIDs(dcm_dir)\n",
    "#     dcm_series = reader.GetGDCMSeriesFileNames(dcm_dir, seriesIDs[0])\n",
    "#     reader.SetFileNames(dcm_series)\n",
    "#     img = reader.Execute()\n",
    "#     img_arr = sitk.GetArrayFromImage(img)\n",
    "#     origin = img.GetOrigin()\n",
    "#     spacing = img.GetSpacing()\n",
    "#     train.append(img)\n",
    "# print('using time:{}'.format(time.time()-st))"
   ]
  },
  {
   "cell_type": "code",
   "execution_count": 7,
   "metadata": {},
   "outputs": [],
   "source": [
    "# 读取标签json\n",
    "t201 = json.load(open(r'C:\\Users\\Administrator\\Desktop\\2020spring\\projectsLJN\\jzjbycfg\\data\\lumbar_train.json'))\n",
    "\n",
    "# 保存结果json\n",
    "# filename = r'C:\\Users\\Administrator\\Desktop\\2020spring\\projectsLJN\\jzjbycfg\\tmp\\res.json'\n",
    "# with open(filename, 'w') as file_obj:\n",
    "#     json.dump(t201, file_obj)"
   ]
  },
  {
   "cell_type": "code",
   "execution_count": 11,
   "metadata": {},
   "outputs": [
    {
     "data": {
      "text/plain": [
       "{'studyUid': '1.3.6.1.4.1.96180.1.1.14710640.33760257.3274',\n 'version': 'v0.1',\n 'data': [{'seriesUid': '1.3.6.1.4.1.96180.1.1.14710640.33760257.3274.232780.2.3',\n   'instanceUid': '1.3.6.1.4.1.96180.1.1.14710640.33760257.3274.232780.2.3.6',\n   'annotation': [{'annotator': 72,\n     'data': {'point': [{'tag': {'identification': 'L5', 'vertebra': 'v2'},\n        'coord': [169, 252],\n        'zIndex': 5},\n       {'tag': {'identification': 'L4', 'vertebra': 'v2'},\n        'coord': [169, 224],\n        'zIndex': 5},\n       {'tag': {'identification': 'L3', 'vertebra': 'v2'},\n        'coord': [171, 194],\n        'zIndex': 5},\n       {'tag': {'identification': 'L2', 'vertebra': 'v2'},\n        'coord': [172, 161],\n        'zIndex': 5},\n       {'tag': {'identification': 'L1', 'vertebra': 'v2'},\n        'coord': [175, 126],\n        'zIndex': 5},\n       {'tag': {'identification': 'L5-S1', 'disc': 'v3'},\n        'coord': [171, 270],\n        'zIndex': 5},\n       {'tag': {'identification': 'L4-L5', 'disc': 'v2'},\n        'coord': [169, 238],\n        'zIndex': 5},\n       {'tag': {'identification': 'L3-L4', 'disc': 'v3'},\n        'coord': [171, 209],\n        'zIndex': 5},\n       {'tag': {'identification': 'L2-L3', 'disc': 'v2'},\n        'coord': [171, 175],\n        'zIndex': 5},\n       {'tag': {'identification': 'L1-L2', 'disc': 'v5'},\n        'coord': [172, 145],\n        'zIndex': 5},\n       {'tag': {'identification': 'T12-L1', 'disc': 'v5'},\n        'coord': [176, 108],\n        'zIndex': 5}]}}]}]}"
      ]
     },
     "execution_count": 11,
     "metadata": {},
     "output_type": "execute_result"
    }
   ],
   "source": [
    "t201[0]"
   ]
  },
  {
   "cell_type": "code",
   "execution_count": 8,
   "metadata": {
    "collapsed": false
   },
   "outputs": [],
   "source": [
    "# data = t201[0]['data']\n",
    "# # data[0].keys()\n",
    "# seriesUid = data[0]['seriesUid']\n",
    "# instanceUid = data[0]['instanceUid']\n",
    "# annotation = data[0]['annotation']"
   ]
  },
  {
   "cell_type": "code",
   "execution_count": 9,
   "metadata": {
    "collapsed": false
   },
   "outputs": [],
   "source": [
    "# annotation\n",
    "# len(annotation)\n",
    "# annotation[0].keys()\n",
    "# annotator = annotation[0]['annotator']\n",
    "# annotation_data = annotation[0]['data']['point']\n",
    "# annotation_data"
   ]
  },
  {
   "cell_type": "code",
   "execution_count": 10,
   "metadata": {},
   "outputs": [],
   "source": [
    "# t201[0]\n",
    "# t201[0]['data'][0]['annotation'][0]['data']['point']"
   ]
  },
  {
   "cell_type": "code",
   "execution_count": 11,
   "metadata": {},
   "outputs": [],
   "source": [
    "# json_df.head()"
   ]
  },
  {
   "cell_type": "code",
   "execution_count": 12,
   "metadata": {},
   "outputs": [
    {
     "name": "stdout",
     "output_type": "stream",
     "text": [
      "{'tag': {'identification': 'L5', 'vertebra': 'v2'}, 'coord': [169, 252], 'zIndex': 5}\n{'tag': {'identification': 'L4', 'vertebra': 'v2'}, 'coord': [169, 224], 'zIndex': 5}\n{'tag': {'identification': 'L3', 'vertebra': 'v2'}, 'coord': [171, 194], 'zIndex': 5}\n{'tag': {'identification': 'L2', 'vertebra': 'v2'}, 'coord': [172, 161], 'zIndex': 5}\n{'tag': {'identification': 'L1', 'vertebra': 'v2'}, 'coord': [175, 126], 'zIndex': 5}\n{'tag': {'identification': 'L5-S1', 'disc': 'v3'}, 'coord': [171, 270], 'zIndex': 5}\n{'tag': {'identification': 'L4-L5', 'disc': 'v2'}, 'coord': [169, 238], 'zIndex': 5}\n{'tag': {'identification': 'L3-L4', 'disc': 'v3'}, 'coord': [171, 209], 'zIndex': 5}\n{'tag': {'identification': 'L2-L3', 'disc': 'v2'}, 'coord': [171, 175], 'zIndex': 5}\n{'tag': {'identification': 'L1-L2', 'disc': 'v5'}, 'coord': [172, 145], 'zIndex': 5}\n{'tag': {'identification': 'T12-L1', 'disc': 'v5'}, 'coord': [176, 108], 'zIndex': 5}\n"
     ]
    }
   ],
   "source": [
    "# len(t51[0]['data'][0]['annotation'][0]['data']['point'])\n",
    "# print(t51[0]['data'][0]['annotation'][0]['data']['point'])\n",
    "tags = t201[0]['data'][0]['annotation'][0]['data']['point']\n",
    "for tag in tags:\n",
    "    print(tag)"
   ]
  },
  {
   "cell_type": "code",
   "execution_count": 13,
   "metadata": {},
   "outputs": [],
   "source": [
    "# data1 = train[0]\n",
    "# img_arr = sitk.GetArrayFromImage(data1)  # 获取对应的array\n",
    "# # img_arr.shape\n",
    "# plt.imshow(img_arr[4, :, :], cmap='gray')"
   ]
  },
  {
   "cell_type": "code",
   "execution_count": 14,
   "metadata": {},
   "outputs": [],
   "source": [
    "# img_arr.shape"
   ]
  },
  {
   "cell_type": "code",
   "execution_count": 16,
   "metadata": {},
   "outputs": [
    {
     "name": "stdout",
     "output_type": "stream",
     "text": [
      "201"
     ]
    },
    {
     "name": "stdout",
     "output_type": "stream",
     "text": [
      "\n"
     ]
    },
    {
     "name": "stdout",
     "output_type": "stream",
     "text": [
      "[{'annotator': 72, 'data': {'point': [{'tag': {'identification': 'L5', 'vertebra': 'v2'}, 'coord': [169, 252], 'zIndex': 5}, {'tag': {'identification': 'L4', 'vertebra': 'v2'}, 'coord': [169, 224], 'zIndex': 5}, {'tag': {'identification': 'L3', 'vertebra': 'v2'}, 'coord': [171, 194], 'zIndex': 5}, {'tag': {'identification': 'L2', 'vertebra': 'v2'}, 'coord': [172, 161], 'zIndex': 5}, {'tag': {'identification': 'L1', 'vertebra': 'v2'}, 'coord': [175, 126], 'zIndex': 5}, {'tag': {'identification': 'L5-S1', 'disc': 'v3'}, 'coord': [171, 270], 'zIndex': 5}, {'tag': {'identification': 'L4-L5', 'disc': 'v2'}, 'coord': [169, 238], 'zIndex': 5}, {'tag': {'identification': 'L3-L4', 'disc': 'v3'}, 'coord': [171, 209], 'zIndex': 5}, {'tag': {'identification': 'L2-L3', 'disc': 'v2'}, 'coord': [171, 175], 'zIndex': 5}, {'tag': {'identification': 'L1-L2', 'disc': 'v5'}, 'coord': [172, 145], 'zIndex': 5}, {'tag': {'identification': 'T12-L1', 'disc': 'v5'}, 'coord': [176, 108], 'zIndex': 5}]}}]"
     ]
    },
    {
     "name": "stdout",
     "output_type": "stream",
     "text": [
      "\n"
     ]
    },
    {
     "name": "stdout",
     "output_type": "stream",
     "text": [
      "using time: 65.2092924118042"
     ]
    }
   ],
   "source": [
    "from projectsLJN.jzjbycfg.utils import *\n",
    "trainPath = r'C:\\Users\\Administrator\\Desktop\\2020spring\\projectsLJN\\jzjbycfg\\data\\train' \n",
    "jsonPath = r'C:\\Users\\Administrator\\Desktop\\2020spring\\projectsLJN\\jzjbycfg\\data\\lumbar_train.json'\n",
    "st = time.time()\n",
    "result = get_info(trainPath, jsonPath)\n",
    "print(len(result))\n",
    "print(result[0])\n",
    "print('using time: {}'.format(time.time()-st))"
   ]
  },
  {
   "cell_type": "code",
   "execution_count": 38,
   "metadata": {},
   "outputs": [],
   "source": [
    "from projectsLJN.jzjbycfg.utils import *"
   ]
  },
  {
   "cell_type": "code",
   "execution_count": 17,
   "metadata": {},
   "outputs": [],
   "source": [
    "# # 验证一下是不是InstanceNumber这个对应zIndex\n",
    "# import pydicom\n",
    "# # dcmPaths = list(result.index)\n",
    "# # for p in dcmPaths:\n",
    "# #     print(p,'\\t', pydicom.read_file(p).InstanceNumber)\n",
    "# # 验证一个study中的每个dcm的InstanceNumber\n",
    "# InstanceNumber = []\n",
    "# root = r'C:\\Users\\Administrator\\Desktop\\2020spring\\projectsLJN\\jzjbycfg\\data\\train\\study0'\n",
    "# dirs = os.listdir(root)\n",
    "# for dir in dirs:\n",
    "#     dcm_dir = root + '\\\\' + dir\n",
    "#     InstanceNumber.append([dir, pydicom.read_file(dcm_dir).InstanceNumber])  # 获取该dcm图片的InstanceNumber\n",
    "# InstanceNumber[:3]"
   ]
  },
  {
   "cell_type": "code",
   "execution_count": 18,
   "metadata": {},
   "outputs": [],
   "source": [
    "from projectsLJN.jzjbycfg.utils import *\n",
    "# 数据预处理之提取分类图片及标签\n",
    "# trainPath = r'C:\\Users\\Administrator\\Desktop\\2020spring\\projectsLJN\\jzjbycfg\\data\\train'\n",
    "# jsonPath = r'C:\\Users\\Administrator\\Desktop\\2020spring\\projectsLJN\\jzjbycfg\\data\\lumbar_train.json'\n",
    "# res = get_info(trainPath, jsonPath)  # 获取图片路径及对应的annotation\n",
    "res = result"
   ]
  },
  {
   "cell_type": "code",
   "execution_count": 19,
   "metadata": {},
   "outputs": [
    {
     "data": {
      "image/png": "[encoded data removed]",
      "text/plain": [
       "<Figure size 432x288 with 1 Axes>"
      ]
     },
     "metadata": {},
     "output_type": "display_data"
    },
    {
     "data": {
      "image/png": "[encoded data removed]",
      "text/plain": [
       "<Figure size 432x288 with 1 Axes>"
      ]
     },
     "metadata": {},
     "output_type": "display_data"
    }
   ],
   "source": [
    "res[0]\n",
    "img_dir = res.index[0]  # 获取图片的地址\n",
    "img_arr = dicom2array(img_dir)  # 获取具体的图片数据，二维数据\n",
    "tags = res[0][0]['data']['point']  # 获取图片的标签\n",
    "tag = tags[0]  # 获取第一个标签\n",
    "coord = tag['coord']  # 获取这个标签所在的坐标\n",
    "# 显示图片\n",
    "fig = plt.figure()\n",
    "ax = fig.add_subplot(1, 1, 1)\n",
    "# 把这个图片中的所有tags都加上去\n",
    "for tag in tags:\n",
    "    coord = tag['coord']\n",
    "    top_left_x, top_left_y = coord[0]-16, coord[1]-16\n",
    "    width, height = 32, 32  # 使目标点在正中间\n",
    "    rect = plt.Rectangle((top_left_x, top_left_y), width, height, fill=False, edgecolor='red', linewidth=1)\n",
    "    ax.add_patch(rect)  # https://blog.csdn.net/weixin_43486780/java/article/details/105741382\n",
    "plt.imshow(img_arr, cmap='gray')\n",
    "# 需要把每个方框中的小patch提取出来，以及对应的label\n",
    "top_left_x, top_left_y = coord[0]-16, coord[1]-16\n",
    "width, height = 32, 32  # 使目标点在正中间\n",
    "patch = img_arr[top_left_y:top_left_y+height, top_left_x:top_left_x+width]\n",
    "label = '-'.join(list(tag['tag'].values()))  # 这样label也是唯一知道的了，能够分清是disc(椎间盘)和vertebra(椎体)就行\n",
    "plt.figure(), plt.imshow(patch, cmap='gray'), plt.title(label)  # 正常提取出来了"
   ]
  },
  {
   "cell_type": "code",
   "execution_count": 25,
   "metadata": {},
   "outputs": [],
   "source": [
    "def get_sample(res):\n",
    "    samples = []\n",
    "    for i in range(len(res)):\n",
    "        img_dir = res.index[0]  # 获取图片的地址\n",
    "        img_arr = dicom2array(img_dir)  # 获取具体的图片数据，二维数据\n",
    "        tags = res[0][0]['data']['point']  # 获取图片的标签\n",
    "        for tag in tags:\n",
    "            coord = tag['coord']  # 获取这个标签所在的坐标\n",
    "            # 需要把每个方框中的小patch提取出来，以及对应的label\n",
    "            top_left_x, top_left_y = coord[0]-16, coord[1]-16\n",
    "            width, height = 32, 32  # 使目标点在正中间\n",
    "            patch = img_arr[top_left_y:top_left_y+height, top_left_x:top_left_x+width]\n",
    "            # label = '-'.join(list(tag['tag'].values()))  # 这样label也是唯一知道的了，能够分清是disc(椎间盘)和vertebra(椎体)就行\n",
    "            dic = tag['tag']\n",
    "            label = list(dic.keys())[-1]+'-'+list(dic.values())[-1]\n",
    "            samples.append((patch, label))\n",
    "    return samples"
   ]
  },
  {
   "cell_type": "code",
   "execution_count": 26,
   "metadata": {},
   "outputs": [
    {
     "data": {
      "text/plain": [
       "2211"
      ]
     },
     "execution_count": 26,
     "metadata": {},
     "output_type": "execute_result"
    }
   ],
   "source": [
    "samples = get_sample(res)  # 总共能获取201*11=2211个sample\n",
    "len(samples)\n",
    "# res[0]"
   ]
  },
  {
   "cell_type": "code",
   "execution_count": 27,
   "metadata": {},
   "outputs": [],
   "source": [
    "class MyDataset(Dataset):\n",
    "    # 需要自己写一个Dataset类，并且要继承从torch中import的Dataset基类，然后重写__len__和__getitem__两个方法，否则会报错\n",
    "    # 此外还需要写__init__，传入数据所在路径和transform(用于数据预处理)\n",
    "    def __init__(self, data_dir, transform=None):\n",
    "        \"\"\"\n",
    "        :param data_dir: 读取的数据所在的路径\n",
    "        :param transform: 数据预处理参数\n",
    "        \"\"\"\n",
    "        self.label_name = {'vertebra-v1': 0, 'vertebra-v2': 1, 'disc-v1': 2, 'disc-v2': 3, 'disc-v3': 4, 'disc-v4': 5, 'disc-v5': 6}\n",
    "        self.data_info = self.dataInfo(data_dir)  # 用来读取数据信息(数据路径，标签)\n",
    "        self.transform = transform\n",
    "\n",
    "    def __getitem__(self, index):  # 根据索引读取数据路径再读取数据\n",
    "        img, label = self.data_info[index]\n",
    "        img = Image.fromarray(img)\n",
    "        label = self.label_name[label]  # 字符串转化为数字，注意后面各类可能还会存在类别不平衡问题\n",
    "\n",
    "        if self.transform is not None:\n",
    "            img = self.transform(img)\n",
    "        else:  # 避免未作transforms而忘记把图像数据转化为tensor\n",
    "            img = torch.tensor(img)\n",
    "        return img, label\n",
    "\n",
    "    def unpickle(self, file):\n",
    "        with open(file, 'rb') as fo:\n",
    "            dict = pickle.load(fo, encoding='bytes')\n",
    "        return dict\n",
    "\n",
    "    def __len__(self):\n",
    "        return len(self.data_info)\n",
    "\n",
    "    @staticmethod\n",
    "    def dataInfo(data_dir):  # 自定义函数用来获取数据信息，输入为数据所在路径，返回为一个元组(图像路径，标签路径)\n",
    "        # 先读取所有的图像数据路径\n",
    "        # data_info = os.listdir(data_dir)  # 读取该路径下的所有文件，此处的data_dir就是train文件夹所对应的路径\n",
    "        # for i in range(len(data_info)):\n",
    "        #     data_info[i] = os.path.join(data_dir, data_info[i])\n",
    "        data_info = data_dir  # 由于传入的直接是数据，所以直接返回就行了，返回的是(图像数据，标签)\n",
    "        return data_info  # 返回的是一个batch_size的数据路径"
   ]
  },
  {
   "cell_type": "code",
   "execution_count": 28,
   "metadata": {},
   "outputs": [
    {
     "name": "stdout",
     "output_type": "stream",
     "text": [
      "vertebra-v2"
     ]
    },
    {
     "name": "stdout",
     "output_type": "stream",
     "text": [
      "\n"
     ]
    },
    {
     "name": "stdout",
     "output_type": "stream",
     "text": [
      "vertebra-v2"
     ]
    },
    {
     "name": "stdout",
     "output_type": "stream",
     "text": [
      "\n"
     ]
    },
    {
     "name": "stdout",
     "output_type": "stream",
     "text": [
      "vertebra-v2"
     ]
    },
    {
     "name": "stdout",
     "output_type": "stream",
     "text": [
      "\n"
     ]
    },
    {
     "name": "stdout",
     "output_type": "stream",
     "text": [
      "vertebra-v2"
     ]
    },
    {
     "name": "stdout",
     "output_type": "stream",
     "text": [
      "\n"
     ]
    },
    {
     "name": "stdout",
     "output_type": "stream",
     "text": [
      "vertebra-v2"
     ]
    },
    {
     "name": "stdout",
     "output_type": "stream",
     "text": [
      "\n"
     ]
    },
    {
     "name": "stdout",
     "output_type": "stream",
     "text": [
      "disc-v3"
     ]
    },
    {
     "name": "stdout",
     "output_type": "stream",
     "text": [
      "\n"
     ]
    },
    {
     "name": "stdout",
     "output_type": "stream",
     "text": [
      "disc-v2"
     ]
    }
   ],
   "source": [
    "for i, item in enumerate(samples):\n",
    "    print(item[1])\n",
    "    if i > 10:\n",
    "        break\n",
    "# 构建DataLoader\n",
    "Batch_size = 8\n",
    "train_transform = transforms.Compose([transforms.Resize((32, 32)),  # 这里必须要把图像尺寸Resize，否则会出现数据维度不匹配问题\n",
    "                                      transforms.ToTensor(), ])\n",
    "train_data = MyDataset(data_dir=samples, transform=train_transform)\n",
    "train_data_loader = DataLoader(dataset=train_data, batch_size=Batch_size, shuffle=True)"
   ]
  },
  {
   "cell_type": "code",
   "execution_count": 29,
   "metadata": {},
   "outputs": [
    {
     "name": "stdout",
     "output_type": "stream",
     "text": [
      "input,\n"
     ]
    },
    {
     "name": "stdout",
     "output_type": "stream",
     "text": [
      " "
     ]
    },
    {
     "name": "stdout",
     "output_type": "stream",
     "text": [
      "tensor([4, 3, 6, 1, 3, 1, 1, 4])"
     ]
    },
    {
     "name": "stdout",
     "output_type": "stream",
     "text": [
      "\n"
     ]
    },
    {
     "name": "stdout",
     "output_type": "stream",
     "text": [
      "input,\n"
     ]
    },
    {
     "name": "stdout",
     "output_type": "stream",
     "text": [
      " "
     ]
    },
    {
     "name": "stdout",
     "output_type": "stream",
     "text": [
      "tensor([3, 4, 1, 6, 1, 1, 4, 4])"
     ]
    },
    {
     "name": "stdout",
     "output_type": "stream",
     "text": [
      "\n"
     ]
    },
    {
     "name": "stdout",
     "output_type": "stream",
     "text": [
      "input,\n"
     ]
    },
    {
     "name": "stdout",
     "output_type": "stream",
     "text": [
      " "
     ]
    },
    {
     "name": "stdout",
     "output_type": "stream",
     "text": [
      "tensor([1, 4, 3, 1, 3, 6, 3, 4])"
     ]
    },
    {
     "name": "stdout",
     "output_type": "stream",
     "text": [
      "\n"
     ]
    },
    {
     "name": "stdout",
     "output_type": "stream",
     "text": [
      "input,\n"
     ]
    },
    {
     "name": "stdout",
     "output_type": "stream",
     "text": [
      " "
     ]
    },
    {
     "name": "stdout",
     "output_type": "stream",
     "text": [
      "tensor([4, 3, 1, 1, 1, 1, 1, 3])"
     ]
    },
    {
     "name": "stdout",
     "output_type": "stream",
     "text": [
      "\n"
     ]
    }
   ],
   "source": [
    "for iter, (inputs, labels) in enumerate(train_data_loader):\n",
    "    print('input,' '\\n', labels)\n",
    "    if iter > 2:\n",
    "        break\n",
    "print(iter)"
   ]
  },
  {
   "cell_type": "code",
   "execution_count": 30,
   "metadata": {},
   "outputs": [
    {
     "data": {
      "text/plain": [
       "torch.Size([8, 1, 32, 32])"
      ]
     },
     "execution_count": 30,
     "metadata": {},
     "output_type": "execute_result"
    }
   ],
   "source": [
    "inputs.shape"
   ]
  },
  {
   "cell_type": "code",
   "execution_count": 57,
   "metadata": {},
   "outputs": [],
   "source": [
    "from projectsLJN.jzjbycfg.utils import *"
   ]
  },
  {
   "cell_type": "code",
   "execution_count": 58,
   "metadata": {},
   "outputs": [
    {
     "ename": "NameError",
     "evalue": "name 'ResNet' is not defined",
     "traceback": [
      "\u001b[1;31m---------------------------------------------------------------------------\u001b[0m",
      "\u001b[1;31mNameError\u001b[0m                                 Traceback (most recent call last)",
      "\u001b[1;32m<ipython-input-58-133158259af3>\u001b[0m in \u001b[0;36m<module>\u001b[1;34m\u001b[0m\n\u001b[0;32m      1\u001b[0m \u001b[1;31m# model = models.resnet18(pretrained=True)  # 从torch模型库中直接加载已有的模型\u001b[0m\u001b[1;33m\u001b[0m\u001b[1;33m\u001b[0m\u001b[0m\n\u001b[1;32m----> 2\u001b[1;33m \u001b[0mmodel\u001b[0m \u001b[1;33m=\u001b[0m \u001b[0mResNet\u001b[0m\u001b[1;33m(\u001b[0m\u001b[0mResidualBlock\u001b[0m\u001b[1;33m,\u001b[0m \u001b[0mnum_classes\u001b[0m\u001b[1;33m=\u001b[0m\u001b[1;36m10\u001b[0m\u001b[1;33m,\u001b[0m \u001b[0min_channels\u001b[0m\u001b[1;33m=\u001b[0m\u001b[1;36m1\u001b[0m\u001b[1;33m)\u001b[0m\u001b[1;33m\u001b[0m\u001b[0m\n\u001b[0m",
      "\u001b[1;31mNameError\u001b[0m: name 'ResNet' is not defined"
     ],
     "output_type": "error"
    }
   ],
   "source": [
    "# model = models.resnet18(pretrained=True)  # 从torch模型库中直接加载已有的模型\n",
    "model = ResNet(ResidualBlock, num_classes=10, in_channels=1)"
   ]
  },
  {
   "cell_type": "code",
   "execution_count": 55,
   "metadata": {},
   "outputs": [],
   "source": [
    "# 对于模型的每个权重，使其不进行反向传播，即固定参数\n",
    "for param in model.parameters():\n",
    "    param.requires_grad = False\n",
    "# 但是参数全部固定了，也没法进行学习，所以我们不固定最后一层，即全连接层fc\n",
    "for param in model.fc.parameters():\n",
    "    param.requires_grad = True\n",
    "\n",
    "class_num = 7  # 假设要分类数目是7\n",
    "channel_in = model.fc.in_features  # 获取fc层的输入通道数\n",
    "# 然后把resnet-101的fc层替换成300类别的fc层\n",
    "model.fc = nn.Linear(channel_in, class_num)"
   ]
  },
  {
   "cell_type": "code",
   "execution_count": 56,
   "metadata": {},
   "outputs": [
    {
     "ename": "RuntimeError",
     "evalue": "Given groups=1, weight of size [64, 3, 7, 7], expected input[8, 1, 32, 32] to have 3 channels, but got 1 channels instead",
     "traceback": [
      "\u001b[1;31m---------------------------------------------------------------------------\u001b[0m",
      "\u001b[1;31mRuntimeError\u001b[0m                              Traceback (most recent call last)",
      "\u001b[1;32m<ipython-input-56-9c05afcb4af1>\u001b[0m in \u001b[0;36m<module>\u001b[1;34m\u001b[0m\n\u001b[1;32m----> 1\u001b[1;33m \u001b[0moutputs\u001b[0m \u001b[1;33m=\u001b[0m \u001b[0mmodel\u001b[0m\u001b[1;33m.\u001b[0m\u001b[0mforward\u001b[0m\u001b[1;33m(\u001b[0m\u001b[0minputs\u001b[0m\u001b[1;33m)\u001b[0m\u001b[1;33m\u001b[0m\u001b[0m\n\u001b[0m",
      "\u001b[1;32mD:\\ProgramFile\\anaconda3\\lib\\site-packages\\torchvision\\models\\resnet.py\u001b[0m in \u001b[0;36mforward\u001b[1;34m(self, x)\u001b[0m\n\u001b[0;32m    194\u001b[0m \u001b[1;33m\u001b[0m\u001b[0m\n\u001b[0;32m    195\u001b[0m     \u001b[1;32mdef\u001b[0m \u001b[0mforward\u001b[0m\u001b[1;33m(\u001b[0m\u001b[0mself\u001b[0m\u001b[1;33m,\u001b[0m \u001b[0mx\u001b[0m\u001b[1;33m)\u001b[0m\u001b[1;33m:\u001b[0m\u001b[1;33m\u001b[0m\u001b[0m\n\u001b[1;32m--> 196\u001b[1;33m         \u001b[0mx\u001b[0m \u001b[1;33m=\u001b[0m \u001b[0mself\u001b[0m\u001b[1;33m.\u001b[0m\u001b[0mconv1\u001b[0m\u001b[1;33m(\u001b[0m\u001b[0mx\u001b[0m\u001b[1;33m)\u001b[0m\u001b[1;33m\u001b[0m\u001b[0m\n\u001b[0m\u001b[0;32m    197\u001b[0m         \u001b[0mx\u001b[0m \u001b[1;33m=\u001b[0m \u001b[0mself\u001b[0m\u001b[1;33m.\u001b[0m\u001b[0mbn1\u001b[0m\u001b[1;33m(\u001b[0m\u001b[0mx\u001b[0m\u001b[1;33m)\u001b[0m\u001b[1;33m\u001b[0m\u001b[0m\n\u001b[0;32m    198\u001b[0m         \u001b[0mx\u001b[0m \u001b[1;33m=\u001b[0m \u001b[0mself\u001b[0m\u001b[1;33m.\u001b[0m\u001b[0mrelu\u001b[0m\u001b[1;33m(\u001b[0m\u001b[0mx\u001b[0m\u001b[1;33m)\u001b[0m\u001b[1;33m\u001b[0m\u001b[0m\n",
      "\u001b[1;32mD:\\ProgramFile\\anaconda3\\lib\\site-packages\\torch\\nn\\modules\\module.py\u001b[0m in \u001b[0;36m__call__\u001b[1;34m(self, *input, **kwargs)\u001b[0m\n\u001b[0;32m    487\u001b[0m             \u001b[0mresult\u001b[0m \u001b[1;33m=\u001b[0m \u001b[0mself\u001b[0m\u001b[1;33m.\u001b[0m\u001b[0m_slow_forward\u001b[0m\u001b[1;33m(\u001b[0m\u001b[1;33m*\u001b[0m\u001b[0minput\u001b[0m\u001b[1;33m,\u001b[0m \u001b[1;33m**\u001b[0m\u001b[0mkwargs\u001b[0m\u001b[1;33m)\u001b[0m\u001b[1;33m\u001b[0m\u001b[0m\n\u001b[0;32m    488\u001b[0m         \u001b[1;32melse\u001b[0m\u001b[1;33m:\u001b[0m\u001b[1;33m\u001b[0m\u001b[0m\n\u001b[1;32m--> 489\u001b[1;33m             \u001b[0mresult\u001b[0m \u001b[1;33m=\u001b[0m \u001b[0mself\u001b[0m\u001b[1;33m.\u001b[0m\u001b[0mforward\u001b[0m\u001b[1;33m(\u001b[0m\u001b[1;33m*\u001b[0m\u001b[0minput\u001b[0m\u001b[1;33m,\u001b[0m \u001b[1;33m**\u001b[0m\u001b[0mkwargs\u001b[0m\u001b[1;33m)\u001b[0m\u001b[1;33m\u001b[0m\u001b[0m\n\u001b[0m\u001b[0;32m    490\u001b[0m         \u001b[1;32mfor\u001b[0m \u001b[0mhook\u001b[0m \u001b[1;32min\u001b[0m \u001b[0mself\u001b[0m\u001b[1;33m.\u001b[0m\u001b[0m_forward_hooks\u001b[0m\u001b[1;33m.\u001b[0m\u001b[0mvalues\u001b[0m\u001b[1;33m(\u001b[0m\u001b[1;33m)\u001b[0m\u001b[1;33m:\u001b[0m\u001b[1;33m\u001b[0m\u001b[0m\n\u001b[0;32m    491\u001b[0m             \u001b[0mhook_result\u001b[0m \u001b[1;33m=\u001b[0m \u001b[0mhook\u001b[0m\u001b[1;33m(\u001b[0m\u001b[0mself\u001b[0m\u001b[1;33m,\u001b[0m \u001b[0minput\u001b[0m\u001b[1;33m,\u001b[0m \u001b[0mresult\u001b[0m\u001b[1;33m)\u001b[0m\u001b[1;33m\u001b[0m\u001b[0m\n",
      "\u001b[1;32mD:\\ProgramFile\\anaconda3\\lib\\site-packages\\torch\\nn\\modules\\conv.py\u001b[0m in \u001b[0;36mforward\u001b[1;34m(self, input)\u001b[0m\n\u001b[0;32m    318\u001b[0m     \u001b[1;32mdef\u001b[0m \u001b[0mforward\u001b[0m\u001b[1;33m(\u001b[0m\u001b[0mself\u001b[0m\u001b[1;33m,\u001b[0m \u001b[0minput\u001b[0m\u001b[1;33m)\u001b[0m\u001b[1;33m:\u001b[0m\u001b[1;33m\u001b[0m\u001b[0m\n\u001b[0;32m    319\u001b[0m         return F.conv2d(input, self.weight, self.bias, self.stride,\n\u001b[1;32m--> 320\u001b[1;33m                         self.padding, self.dilation, self.groups)\n\u001b[0m\u001b[0;32m    321\u001b[0m \u001b[1;33m\u001b[0m\u001b[0m\n\u001b[0;32m    322\u001b[0m \u001b[1;33m\u001b[0m\u001b[0m\n",
      "\u001b[1;31mRuntimeError\u001b[0m: Given groups=1, weight of size [64, 3, 7, 7], expected input[8, 1, 32, 32] to have 3 channels, but got 1 channels instead"
     ],
     "output_type": "error"
    }
   ],
   "source": [
    "outputs = model.forward(inputs)"
   ]
  },
  {
   "cell_type": "code",
   "execution_count": 33,
   "metadata": {
    "collapsed": true
   },
   "outputs": [],
   "source": [
    "# import numpy as np\n",
    "samplesArr = np.array(samples)"
   ]
  },
  {
   "cell_type": "code",
   "execution_count": 38,
   "metadata": {},
   "outputs": [
    {
     "data": {
      "text/plain": [
       "array([[array([[ 28,  31,  34, ...,  22,  20,  21],\n       [ 37,  37,  37, ...,  12,   8,   4],\n       [ 35,  34,  33, ...,   7,   6,   3],\n       ...,\n       [ 89, 115, 106, ...,  40,  42,  39],\n       [ 89, 120, 109, ...,  38,  37,  30],\n       [ 79, 117, 108, ...,  36,  33,  31]], dtype=uint8),\n        'vertebra-v2'],\n       [array([[17, 27, 33, ..., 31, 29, 29],\n       [28, 21, 21, ..., 28, 28, 28],\n       [42, 34, 28, ..., 32, 33, 34],\n       ...,\n       [37, 37, 37, ..., 12,  8,  4],\n       [35, 34, 33, ...,  7,  6,  3],\n       [28, 29, 32, ..., 17, 18, 18]], dtype=uint8),\n        'vertebra-v2'],\n       [array([[60, 58, 42, ..., 37, 37, 38],\n       [68, 63, 46, ..., 50, 56, 61],\n       [76, 64, 52, ..., 71, 78, 81],\n       ...,\n       [50, 40, 32, ..., 22, 22, 21],\n       [33, 30, 22, ..., 29, 29, 26],\n       [21, 24, 23, ..., 28, 27, 26]], dtype=uint8),\n        'vertebra-v2'],\n       [array([[ 75,  73,  71, ...,  34,  33,  26],\n       [ 79,  85,  83, ...,  23,  32,  38],\n       [ 89, 101,  91, ...,  40,  56,  65],\n       ...,\n       [ 18,  19,  22, ...,  49,  49,  57],\n       [ 16,  17,  22, ...,  48,  47,  55],\n       [ 24,  22,  26, ...,  41,  39,  47]], dtype=uint8),\n        'vertebra-v2'],\n       [array([[ 80,  74,  52, ...,  11,  11,   3],\n       [102,  93,  84, ...,  20,  23,  17],\n       [ 92,  99,  99, ...,  40,  47,  41],\n       ...,\n       [ 27,  10,  16, ...,  38,  27,  40],\n       [ 21,  21,  51, ...,  21,  36,  40],\n       [ 15,  31,  72, ...,  29,  43,  36]], dtype=uint8),\n        'vertebra-v2'],\n       [array([[101, 101, 101, ..., 102, 137, 164],\n       [100, 100,  98, ...,  81,  91, 120],\n       [100,  98,  94, ...,  65,  62,  85],\n       ...,\n       [104,  80,  68, ...,  79,  83,  88],\n       [124,  97,  81, ...,  80,  87,  88],\n       [137, 122, 100, ...,  82,  90,  86]], dtype=uint8),\n        'disc-v3'],\n       [array([[ 48,  70, 103, ..., 123, 126, 124],\n       [ 53,  67, 103, ..., 119, 122, 120],\n       [ 65,  68, 104, ..., 113, 118, 116],\n       ...,\n       [ 55,  93, 102, ..., 140, 109, 115],\n       [ 43,  87, 102, ..., 135, 114, 123],\n       [ 35,  77, 102, ..., 125, 107, 118]], dtype=uint8),\n        'disc-v2'],\n       [array([[ 57,  93, 121, ..., 108, 109, 114],\n       [ 66,  96, 118, ..., 105, 106, 108],\n       [ 74,  94, 112, ..., 102, 103, 102],\n       ...,\n       [103, 113, 110, ..., 124, 114, 109],\n       [103, 115, 108, ..., 120, 103,  90],\n       [104, 115, 104, ..., 116, 101,  92]], dtype=uint8),\n        'disc-v3'],\n       [array([[113,  79,  67, ..., 166, 167, 164],\n       [113,  76,  69, ..., 150, 153, 157],\n       [109,  74,  72, ..., 130, 129, 131],\n       ...,\n       [ 67,  69, 105, ..., 112, 110, 107],\n       [ 59,  70, 107, ..., 120, 124, 126],\n       [ 53,  76, 111, ..., 122, 131, 137]], dtype=uint8),\n        'disc-v2'],\n       [array([[193, 153, 104, ..., 120, 113, 109],\n       [187, 135,  78, ..., 116, 112, 116],\n       [169, 103,  52, ..., 113, 110, 121],\n       ...,\n       [ 80,  61,  85, ..., 169, 159, 190],\n       [ 79,  67,  92, ..., 167, 164, 208],\n       [ 76,  69,  96, ..., 153, 157, 202]], dtype=uint8),\n        'disc-v5']], dtype=object)"
      ]
     },
     "execution_count": 38,
     "metadata": {},
     "output_type": "execute_result"
    }
   ],
   "source": [
    "print(set(samplesArr[:, 1]))\n",
    "# for i, item in enumerate(samples):\n",
    "#     print(item[1])\n",
    "#     if i > 50:\n",
    "#         break\n",
    "# samplesArr[:10, :]"
   ]
  },
  {
   "cell_type": "code",
   "execution_count": 59,
   "metadata": {},
   "outputs": [],
   "source": [
    "import pickle\n",
    "\n",
    "\n",
    "def save_obj(obj, name):  # 保存dict\n",
    "    with open(name + '.pkl', 'wb') as f:\n",
    "        pickle.dump(obj, f, pickle.HIGHEST_PROTOCOL)\n",
    "\n",
    "\n",
    "def load_obj(name):  # 加载dict\n",
    "    with open(name + '.pkl', 'rb') as f:\n",
    "        return pickle.load(f)"
   ]
  },
  {
   "cell_type": "code",
   "execution_count": 60,
   "metadata": {},
   "outputs": [],
   "source": [
    "save_obj(samples, r'C:\\Users\\Administrator\\Desktop\\2020spring\\projectsLJN\\jzjbycfg\\tmp\\samples')"
   ]
  },
  {
   "cell_type": "code",
   "execution_count": 61,
   "metadata": {},
   "outputs": [],
   "source": [
    "smp = load_obj(r'C:\\Users\\Administrator\\Desktop\\2020spring\\projectsLJN\\jzjbycfg\\tmp\\samples')"
   ]
  },
  {
   "cell_type": "code",
   "execution_count": 62,
   "metadata": {},
   "outputs": [
    {
     "data": {
      "text/plain": [
       "(array([[ 28,  31,  34, ...,  22,  20,  21],\n        [ 37,  37,  37, ...,  12,   8,   4],\n        [ 35,  34,  33, ...,   7,   6,   3],\n        ...,\n        [ 89, 115, 106, ...,  40,  42,  39],\n        [ 89, 120, 109, ...,  38,  37,  30],\n        [ 79, 117, 108, ...,  36,  33,  31]], dtype=uint8), 'vertebra-v2')"
      ]
     },
     "execution_count": 62,
     "metadata": {},
     "output_type": "execute_result"
    }
   ],
   "source": [
    "smp[0]"
   ]
  },
  {
   "cell_type": "code",
   "execution_count": null,
   "metadata": {},
   "outputs": [],
   "source": []
  }
 ],
 "metadata": {
  "kernelspec": {
   "display_name": "Python 2",
   "language": "python",
   "name": "python2"
  },
  "language_info": {
   "codemirror_mode": {
    "name": "ipython",
    "version": 2
   },
   "file_extension": ".py",
   "mimetype": "text/x-python",
   "name": "python",
   "nbconvert_exporter": "python",
   "pygments_lexer": "ipython2",
   "version": "2.7.6"
  }
 },
 "nbformat": 4,
 "nbformat_minor": 0
}
